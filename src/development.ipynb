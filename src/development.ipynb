{
 "cells": [
  {
   "cell_type": "code",
   "execution_count": 1,
   "metadata": {},
   "outputs": [],
   "source": [
    "import requests\n",
    "import numpy as np\n",
    "import pandas as pd\n",
    "import matplotlib.pyplot as plt\n"
   ]
  },
  {
   "cell_type": "code",
   "execution_count": 2,
   "metadata": {},
   "outputs": [],
   "source": [
    "def generate_topology():\n",
    "    # Define the geographic area to sample elevation data from\n",
    "    # For example, using latitude and longitude coordinates\n",
    "    north = 40.92\n",
    "    south = 40.90\n",
    "    east = -74.05\n",
    "    west = -74.08\n",
    "\n",
    "    grid_size = 100\n",
    "    \n",
    "    # Define the number of sample points to use\n",
    "    num_points = grid_size * grid_size\n",
    "    \n",
    "    # Call the Google Elevation API to get elevation data for the area\n",
    "    response = requests.get(f'https://maps.googleapis.com/maps/api/elevation/json?path={south},{west}|{north},{east}&samples={num_points}')\n",
    "    data = response.json()\n",
    "    \n",
    "    # Extract the elevation data from the API response\n",
    "    elevations = [result['elevation'] for result in data['results']]\n",
    "    \n",
    "    # Reshape the elevation data to match the grid size\n",
    "    data = np.array(elevations).reshape(grid_size, grid_size)\n",
    "    \n",
    "    # Normalize the data to between 0 and 1\n",
    "    data = (data - np.nanmin(data)) / (np.nanmax(data) - np.nanmin(data))\n",
    "    \n",
    "    return data"
   ]
  },
  {
   "cell_type": "code",
   "execution_count": 3,
   "metadata": {},
   "outputs": [
    {
     "ename": "ValueError",
     "evalue": "cannot reshape array of size 0 into shape (100,100)",
     "output_type": "error",
     "traceback": [
      "\u001b[0;31m---------------------------------------------------------------------------\u001b[0m",
      "\u001b[0;31mValueError\u001b[0m                                Traceback (most recent call last)",
      "Input \u001b[0;32mIn [3]\u001b[0m, in \u001b[0;36m<cell line: 21>\u001b[0;34m()\u001b[0m\n\u001b[1;32m     18\u001b[0m elevations \u001b[38;5;241m=\u001b[39m [result[\u001b[38;5;124m'\u001b[39m\u001b[38;5;124melevation\u001b[39m\u001b[38;5;124m'\u001b[39m] \u001b[38;5;28;01mfor\u001b[39;00m result \u001b[38;5;129;01min\u001b[39;00m data[\u001b[38;5;124m'\u001b[39m\u001b[38;5;124mresults\u001b[39m\u001b[38;5;124m'\u001b[39m]]\n\u001b[1;32m     20\u001b[0m \u001b[38;5;66;03m# Reshape the elevation data to match the grid size\u001b[39;00m\n\u001b[0;32m---> 21\u001b[0m data \u001b[38;5;241m=\u001b[39m \u001b[43mnp\u001b[49m\u001b[38;5;241;43m.\u001b[39;49m\u001b[43marray\u001b[49m\u001b[43m(\u001b[49m\u001b[43melevations\u001b[49m\u001b[43m)\u001b[49m\u001b[38;5;241;43m.\u001b[39;49m\u001b[43mreshape\u001b[49m\u001b[43m(\u001b[49m\u001b[43mgrid_size\u001b[49m\u001b[43m,\u001b[49m\u001b[43m \u001b[49m\u001b[43mgrid_size\u001b[49m\u001b[43m)\u001b[49m\n\u001b[1;32m     23\u001b[0m \u001b[38;5;66;03m# Normalize the data to between 0 and 1\u001b[39;00m\n\u001b[1;32m     24\u001b[0m data \u001b[38;5;241m=\u001b[39m (data \u001b[38;5;241m-\u001b[39m np\u001b[38;5;241m.\u001b[39mnanmin(data)) \u001b[38;5;241m/\u001b[39m (np\u001b[38;5;241m.\u001b[39mnanmax(data) \u001b[38;5;241m-\u001b[39m np\u001b[38;5;241m.\u001b[39mnanmin(data))\n",
      "\u001b[0;31mValueError\u001b[0m: cannot reshape array of size 0 into shape (100,100)"
     ]
    }
   ],
   "source": [
    "# Define the geographic area to sample elevation data from\n",
    "# For example, using latitude and longitude coordinates\n",
    "north = 40.92\n",
    "south = 40.90\n",
    "east = -74.05\n",
    "west = -74.08\n",
    "\n",
    "grid_size = 100\n",
    "\n",
    "# Define the number of sample points to use\n",
    "num_points = grid_size * grid_size\n",
    "\n",
    "# Call the Google Elevation API to get elevation data for the area\n",
    "response = requests.get(f'https://maps.googleapis.com/maps/api/elevation/json?path={south},{west}|{north},{east}&samples={num_points}')\n",
    "data = response.json()\n",
    "\n",
    "# Extract the elevation data from the API response\n",
    "elevations = [result['elevation'] for result in data['results']]\n",
    "\n",
    "# Reshape the elevation data to match the grid size\n",
    "data = np.array(elevations).reshape(grid_size, grid_size)\n",
    "\n",
    "# Normalize the data to between 0 and 1\n",
    "data = (data - np.nanmin(data)) / (np.nanmax(data) - np.nanmin(data))"
   ]
  }
 ],
 "metadata": {
  "kernelspec": {
   "display_name": "Python 3 (ipykernel)",
   "language": "python",
   "name": "python3"
  },
  "language_info": {
   "codemirror_mode": {
    "name": "ipython",
    "version": 3
   },
   "file_extension": ".py",
   "mimetype": "text/x-python",
   "name": "python",
   "nbconvert_exporter": "python",
   "pygments_lexer": "ipython3",
   "version": "3.9.13"
  },
  "vscode": {
   "interpreter": {
    "hash": "928e939eac0f654fbe05d053d90c99a276c56de033b66a14aea85c7f76d85484"
   }
  }
 },
 "nbformat": 4,
 "nbformat_minor": 4
}
